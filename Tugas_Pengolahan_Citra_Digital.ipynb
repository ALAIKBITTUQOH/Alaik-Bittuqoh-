{
  "nbformat": 4,
  "nbformat_minor": 0,
  "metadata": {
    "colab": {
      "provenance": [],
      "authorship_tag": "ABX9TyN7fB+BNFglYZzYzs0zx6jn",
      "include_colab_link": true
    },
    "kernelspec": {
      "name": "python3",
      "display_name": "Python 3"
    },
    "language_info": {
      "name": "python"
    }
  },
  "cells": [
    {
      "cell_type": "markdown",
      "metadata": {
        "id": "view-in-github",
        "colab_type": "text"
      },
      "source": [
        "<a href=\"https://colab.research.google.com/github/ALAIKBITTUQOH/Alaik-Bittuqoh-/blob/main/Tugas_Pengolahan_Citra_Digital.ipynb\" target=\"_parent\"><img src=\"https://colab.research.google.com/assets/colab-badge.svg\" alt=\"Open In Colab\"/></a>"
      ]
    },
    {
      "cell_type": "code",
      "source": [
        "import numpy as np\n",
        "\n",
        "# Variabel H untuk kernel atau filter\n",
        "H = np.array([\n",
        "    [1, 1, 1],\n",
        "    [1, 4, 1],\n",
        "    [1, 1, 1]\n",
        "])\n",
        "\n",
        "# Variabel X untuk image input/image original (contoh matriks 5x5)\n",
        "X = np.array([\n",
        "    [0, 0, 0, 0, 0, 0],\n",
        "    [0, 1, 0, 0, 0, 0],\n",
        "    [0, 1, 1, 1, 0, 0],\n",
        "    [0, 1, 1, 1, 0, 0],\n",
        "    [0, 1, 0, 0, 0, 0],\n",
        "    [0, 0, 0, 0, 0, 0]\n",
        "])\n",
        "\n",
        "# Ukuran filter\n",
        "nFilterX, nFilterY = H.shape\n",
        "\n",
        "# Membuat matriks Y (output) dengan ukuran yang sesuai\n",
        "output_height = X.shape[0] - nFilterX + 1\n",
        "output_width = X.shape[1] - nFilterY + 1\n",
        "Y = np.zeros((output_height, output_width))\n",
        "\n",
        "# Proses filtering\n",
        "for x in range(output_width):\n",
        "    for y in range(output_height):\n",
        "        z = 0\n",
        "        for k1 in range(nFilterX):\n",
        "            for k2 in range(nFilterY):\n",
        "                z += H[k1, k2] * X[y + k1, x + k2]\n",
        "        Y[y, x] = z\n",
        "\n",
        "# Menampilkan hasil\n",
        "print(\"Input Image (X):\\n\", X)\n",
        "print(\"Filter (H):\\n\", H)\n",
        "print(\"Output Image (Y):\\n\", Y)"
      ],
      "metadata": {
        "colab": {
          "base_uri": "https://localhost:8080/"
        },
        "id": "VjVVmIf1wzMq",
        "outputId": "f4fc60ee-0fa1-4e34-fa09-4a59c388a40a"
      },
      "execution_count": 1,
      "outputs": [
        {
          "output_type": "stream",
          "name": "stdout",
          "text": [
            "Input Image (X):\n",
            " [[0 0 0 0 0 0]\n",
            " [0 1 0 0 0 0]\n",
            " [0 1 1 1 0 0]\n",
            " [0 1 1 1 0 0]\n",
            " [0 1 0 0 0 0]\n",
            " [0 0 0 0 0 0]]\n",
            "Filter (H):\n",
            " [[1 1 1]\n",
            " [1 4 1]\n",
            " [1 1 1]]\n",
            "Output Image (Y):\n",
            " [[ 6.  4.  2.  1.]\n",
            " [ 8. 10.  7.  2.]\n",
            " [ 8. 10.  7.  2.]\n",
            " [ 6.  4.  2.  1.]]\n"
          ]
        }
      ]
    }
  ]
}