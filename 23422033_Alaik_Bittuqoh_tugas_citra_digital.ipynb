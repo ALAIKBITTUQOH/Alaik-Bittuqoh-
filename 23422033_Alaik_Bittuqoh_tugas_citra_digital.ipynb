{
  "nbformat": 4,
  "nbformat_minor": 0,
  "metadata": {
    "colab": {
      "provenance": [],
      "authorship_tag": "ABX9TyPZXFJPFmsaN0sxofqzfv2z",
      "include_colab_link": true
    },
    "kernelspec": {
      "name": "python3",
      "display_name": "Python 3"
    },
    "language_info": {
      "name": "python"
    }
  },
  "cells": [
    {
      "cell_type": "markdown",
      "metadata": {
        "id": "view-in-github",
        "colab_type": "text"
      },
      "source": [
        "<a href=\"https://colab.research.google.com/github/ALAIKBITTUQOH/Alaik-Bittuqoh-/blob/main/23422033_Alaik_Bittuqoh_tugas_citra_digital.ipynb\" target=\"_parent\"><img src=\"https://colab.research.google.com/assets/colab-badge.svg\" alt=\"Open In Colab\"/></a>"
      ]
    },
    {
      "cell_type": "code",
      "source": [
        "import numpy as np\n",
        "\n",
        "# Variabel H untuk kernel atau filter\n",
        "H = np.array([\n",
        "    [1, 0, -1],\n",
        "    [1, 0, -1],\n",
        "    [1, 0, -1]\n",
        "])\n",
        "\n",
        "# Variabel X untuk image input/image original (contoh matriks 5x5)\n",
        "X = np.array([\n",
        "    [10, 20, 30, 40, 50],\n",
        "    [60, 70, 80, 90, 100],\n",
        "    [110, 120, 130, 140, 150],\n",
        "    [160, 170, 180, 190, 200],\n",
        "    [210, 220, 230, 240, 250]\n",
        "])\n",
        "\n",
        "# Ukuran filter\n",
        "nFilterX, nFilterY = H.shape\n",
        "\n",
        "# Membuat matriks Y (output) dengan ukuran yang sesuai\n",
        "output_height = X.shape[0] - nFilterX + 1\n",
        "output_width = X.shape[1] - nFilterY + 1\n",
        "Y = np.zeros((output_height, output_width))\n",
        "\n",
        "# Proses filtering\n",
        "for x in range(output_width):\n",
        "    for y in range(output_height):\n",
        "        z = 0\n",
        "        for k1 in range(nFilterX):\n",
        "            for k2 in range(nFilterY):\n",
        "                z += H[k1, k2] * X[y + k1, x + k2]\n",
        "        Y[y, x] = z\n",
        "\n",
        "# Menampilkan hasil\n",
        "print(\"Input Image (X):\\n\", X)\n",
        "print(\"Filter (H):\\n\", H)\n",
        "print(\"Output Image (Y):\\n\", Y)"
      ],
      "metadata": {
        "colab": {
          "base_uri": "https://localhost:8080/"
        },
        "id": "1eldIAZx0pI-",
        "outputId": "4abf9aac-2725-422c-a886-c68d081cc825"
      },
      "execution_count": 3,
      "outputs": [
        {
          "output_type": "stream",
          "name": "stdout",
          "text": [
            "Input Image (X):\n",
            " [[ 10  20  30  40  50]\n",
            " [ 60  70  80  90 100]\n",
            " [110 120 130 140 150]\n",
            " [160 170 180 190 200]\n",
            " [210 220 230 240 250]]\n",
            "Filter (H):\n",
            " [[ 1  0 -1]\n",
            " [ 1  0 -1]\n",
            " [ 1  0 -1]]\n",
            "Output Image (Y):\n",
            " [[-60. -60. -60.]\n",
            " [-60. -60. -60.]\n",
            " [-60. -60. -60.]]\n"
          ]
        }
      ]
    }
  ]
}